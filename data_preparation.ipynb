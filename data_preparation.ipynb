{
 "cells": [
  {
   "cell_type": "markdown",
   "metadata": {},
   "source": [
    "# README #\n",
    "\n",
    "Bu dosya değişik kaynaklardan topladığımız veriyi bir araya getirerek model datasını oluşturur.\n",
    "\n",
    "Veri kaynakları:\n",
    "- 1- Premier League maç bazlı verisi -> 2013-2014 yılından 2017-2018 yılına kadar.\n",
    "- 2- Takım Değerleri -> Transfermarkt'tan toplanılan yine sezon bazlı takım ortalama oyuncu değerleri (Mil Euro bazında)\n",
    "- 3- Takım FIFA İstatistikleri -> FIFA'daki sezon bazlı takım istatistikleri (ATT -> Atak , DEF -> Defans, MID -> Midfield, OVR -> Overall)\n",
    "\n",
    "\n",
    "> Bu kaynakları okuttuktan sonra ne yapıyoruz?\n",
    "> - Sezonları dikkate alarak her şeyi tek bir tabloda birleştiriyoruz.\n",
    "> - \"TARGET\" kolonunu yaratıyoruz. Bu kolon ev sahibi takım yendiyse 1, beraberlikse 2, deplasman yendiyse 3 oluyor.\n",
    "> - Daha sonra kimin kazanacağını gösterebilecek \"feature\"ları yaratıyoruz. Feature'ları yaratmak için gerekli fonksiyonlar feature_dictionary klasörünün altındaki feature_generation_functions'un içindeki her bir .py dosyası. Bu fonksiyonlar elimizdeki tabloyu kullanarak, örneğin, iki takımın son üç maç ortalama gollerini hesaplıyor. Daha sonra bu \"feature\"lar aynı şekilde ana tablomuza ekleniyor.\n",
    "\n",
    "> En son, elimize geçen tabloyu, raw_training_data klasöründe raw_training_data.csv olarak kaydediyoruz. RAW dememin sebebi: elimizdeki tablo şu an her şeyi kapsıyor, takımları, hakemleri vesaire. Modellemede bu kolonlara ihtiyacımız olmayacak. \n",
    "\n",
    "Buraya kadar okuduysanız training_test_data_kernel.ipynb dosyasına geçebilirsiniz."
   ]
  },
  {
   "cell_type": "code",
   "execution_count": 1,
   "metadata": {},
   "outputs": [],
   "source": [
    "import pandas as pd\n",
    "import numpy as np\n",
    "import datetime\n",
    "import os"
   ]
  },
  {
   "cell_type": "code",
   "execution_count": 2,
   "metadata": {},
   "outputs": [],
   "source": [
    "# Read game-by-game data for each season\n",
    "df1 = pd.read_csv('./dataset/game_data/season-1314_csv.csv')\n",
    "df2 = pd.read_csv('./dataset/game_data/season-1415_csv.csv')\n",
    "df3 = pd.read_csv('./dataset/game_data/season-1516_csv.csv')\n",
    "df4 = pd.read_csv('./dataset/game_data/season-1617_csv.csv')\n",
    "df5 = pd.read_csv('./dataset/game_data/season-1718_csv.csv')\n",
    "\n",
    "# Read Market Values Data\n",
    "team_values=pd.read_csv('./dataset/team_values/team_values.csv')\n",
    "team_values.set_index('Team',inplace=True)\n",
    "\n",
    "# Read Team Fifa Stats Data\n",
    "team_fifa_stats = pd.read_csv('./dataset/team_fifa_stats/team_fifa_stats.csv')\n",
    "team_fifa_stats.set_index('Orj_Team',inplace=True)\n",
    "\n",
    "# Concatenate data frames and get rid of old ones\n",
    "main = pd.concat([df1,df2,df3,df4,df5],axis=0)\n",
    "del df1, df2, df3, df4, df5"
   ]
  },
  {
   "cell_type": "code",
   "execution_count": 81,
   "metadata": {},
   "outputs": [],
   "source": [
    "# Create TARGET variable which is equal to 1 if Home team wins, 2 if there is a draw, and 3 if Away team wins\n",
    "main['TARGET'] = (main.FTHG > main.FTAG)*1+((main.FTHG == main.FTAG)*1).replace(1,2)+((main.FTHG < main.FTAG)*1).replace(1,3)\n",
    "main.reset_index(inplace=True)"
   ]
  },
  {
   "cell_type": "code",
   "execution_count": 21,
   "metadata": {},
   "outputs": [],
   "source": [
    "# Run all the functions needed for feature generation\n",
    "file_list = [e for e in os.listdir('./feature_dictionary/fetaure_generation_functions') if e[-3:] == '.py']\n",
    "for file in file_list:\n",
    "    exec(open('./feature_dictionary/fetaure_generation_functions/'+file).read())"
   ]
  },
  {
   "cell_type": "code",
   "execution_count": 22,
   "metadata": {},
   "outputs": [],
   "source": [
    "train_df = main.copy()"
   ]
  },
  {
   "cell_type": "code",
   "execution_count": 23,
   "metadata": {},
   "outputs": [],
   "source": [
    "train_df['HOME_LG_GOALS_L1W']=train_df.apply(func_HOME_LG_GOALS_L1W,axis=1)\n",
    "train_df['HOME_LG_GOALS_L2W']=train_df.apply(func_HOME_LG_GOALS_L2W,axis=1)\n",
    "train_df['HOME_LG_GOALS_L3W']=train_df.apply(func_HOME_LG_GOALS_L3W,axis=1)\n",
    "train_df['HOME_LG_GOALS_L3W_COMB']=train_df.HOME_LG_GOALS_L1W+train_df.HOME_LG_GOALS_L2W+train_df.HOME_LG_GOALS_L3W"
   ]
  },
  {
   "cell_type": "code",
   "execution_count": 24,
   "metadata": {},
   "outputs": [],
   "source": [
    "train_df['HOME_LG_GOALS_H_L1W']=train_df.apply(func_HOME_LG_GOALS_H_L1W,axis=1)\n",
    "train_df['HOME_LG_GOALS_H_L2W']=train_df.apply(func_HOME_LG_GOALS_H_L2W,axis=1)\n",
    "train_df['HOME_LG_GOALS_H_L3W']=train_df.apply(func_HOME_LG_GOALS_H_L3W,axis=1)\n",
    "train_df['HOME_LG_GOALS_H_L3W_COMB']=train_df.HOME_LG_GOALS_H_L1W+train_df.HOME_LG_GOALS_H_L2W+train_df.HOME_LG_GOALS_H_L3W"
   ]
  },
  {
   "cell_type": "code",
   "execution_count": 25,
   "metadata": {},
   "outputs": [],
   "source": [
    "train_df['HOME_LG_GOALS_A_L1W']=train_df.apply(func_HOME_LG_GOALS_A_L1W,axis=1)\n",
    "train_df['HOME_LG_GOALS_A_L2W']=train_df.apply(func_HOME_LG_GOALS_A_L2W,axis=1)\n",
    "train_df['HOME_LG_GOALS_A_L3W']=train_df.apply(func_HOME_LG_GOALS_A_L3W,axis=1)\n",
    "train_df['HOME_LG_GOALS_A_L3W_COMB']=train_df.HOME_LG_GOALS_A_L1W+train_df.HOME_LG_GOALS_A_L2W+train_df.HOME_LG_GOALS_A_L3W"
   ]
  },
  {
   "cell_type": "code",
   "execution_count": 26,
   "metadata": {},
   "outputs": [],
   "source": [
    "train_df['HOME_LG_SHOTS_L1W']=train_df.apply(func_HOME_LG_SHOTS_L1W,axis=1)\n",
    "train_df['HOME_LG_SHOTS_L2W']=train_df.apply(func_HOME_LG_SHOTS_L2W,axis=1)\n",
    "train_df['HOME_LG_SHOTS_L3W']=train_df.apply(func_HOME_LG_SHOTS_L3W,axis=1)\n",
    "train_df['HOME_LG_SHOTS_L3W_COMB']=train_df.HOME_LG_SHOTS_L1W+train_df.HOME_LG_SHOTS_L2W+train_df.HOME_LG_SHOTS_L3W"
   ]
  },
  {
   "cell_type": "code",
   "execution_count": 27,
   "metadata": {},
   "outputs": [],
   "source": [
    "train_df['HOME_LG_SHOTS_H_L1W']=train_df.apply(func_HOME_LG_SHOTS_H_L1W,axis=1)\n",
    "train_df['HOME_LG_SHOTS_H_L2W']=train_df.apply(func_HOME_LG_SHOTS_H_L2W,axis=1)\n",
    "train_df['HOME_LG_SHOTS_H_L3W']=train_df.apply(func_HOME_LG_SHOTS_H_L3W,axis=1)\n",
    "train_df['HOME_LG_SHOTS_H_L3W_COMB']=train_df.HOME_LG_SHOTS_H_L1W+train_df.HOME_LG_SHOTS_H_L2W+train_df.HOME_LG_SHOTS_H_L3W"
   ]
  },
  {
   "cell_type": "code",
   "execution_count": 28,
   "metadata": {},
   "outputs": [],
   "source": [
    "train_df['HOME_LG_SHOTS_A_L1W']=train_df.apply(func_HOME_LG_SHOTS_A_L1W,axis=1)\n",
    "train_df['HOME_LG_SHOTS_A_L2W']=train_df.apply(func_HOME_LG_SHOTS_A_L2W,axis=1)\n",
    "train_df['HOME_LG_SHOTS_A_L3W']=train_df.apply(func_HOME_LG_SHOTS_A_L3W,axis=1)\n",
    "train_df['HOME_LG_SHOTS_A_L3W_COMB']=train_df.HOME_LG_SHOTS_A_L1W+train_df.HOME_LG_SHOTS_A_L2W+train_df.HOME_LG_SHOTS_A_L3W"
   ]
  },
  {
   "cell_type": "code",
   "execution_count": 29,
   "metadata": {},
   "outputs": [],
   "source": [
    "train_df['HOME_LG_SHOTS_OT_L1W']=train_df.apply(func_HOME_LG_SHOTS_OT_L1W,axis=1)\n",
    "train_df['HOME_LG_SHOTS_OT_L2W']=train_df.apply(func_HOME_LG_SHOTS_OT_L2W,axis=1)\n",
    "train_df['HOME_LG_SHOTS_OT_L3W']=train_df.apply(func_HOME_LG_SHOTS_OT_L3W,axis=1)\n",
    "train_df['HOME_LG_SHOTS_OT_L3W_COMB']=train_df.HOME_LG_SHOTS_OT_L1W+train_df.HOME_LG_SHOTS_OT_L2W+train_df.HOME_LG_SHOTS_OT_L3W"
   ]
  },
  {
   "cell_type": "code",
   "execution_count": 30,
   "metadata": {},
   "outputs": [],
   "source": [
    "train_df['HOME_LG_SHOTS_OT_H_L1W']=train_df.apply(func_HOME_LG_SHOTS_OT_H_L1W,axis=1)\n",
    "train_df['HOME_LG_SHOTS_OT_H_L2W']=train_df.apply(func_HOME_LG_SHOTS_OT_H_L2W,axis=1)\n",
    "train_df['HOME_LG_SHOTS_OT_H_L3W']=train_df.apply(func_HOME_LG_SHOTS_OT_H_L3W,axis=1)\n",
    "train_df['HOME_LG_SHOTS_OT_H_L3W_COMB']=train_df.HOME_LG_SHOTS_OT_H_L1W+train_df.HOME_LG_SHOTS_OT_H_L2W+train_df.HOME_LG_SHOTS_OT_H_L3W"
   ]
  },
  {
   "cell_type": "code",
   "execution_count": 31,
   "metadata": {},
   "outputs": [],
   "source": [
    "train_df['HOME_LG_SHOTS_OT_A_L1W']=train_df.apply(func_HOME_LG_SHOTS_OT_A_L1W,axis=1)\n",
    "train_df['HOME_LG_SHOTS_OT_A_L2W']=train_df.apply(func_HOME_LG_SHOTS_OT_A_L2W,axis=1)\n",
    "train_df['HOME_LG_SHOTS_OT_A_L3W']=train_df.apply(func_HOME_LG_SHOTS_OT_A_L3W,axis=1)\n",
    "train_df['HOME_LG_SHOTS_OT_A_L3W_COMB']=train_df.HOME_LG_SHOTS_OT_A_L1W+train_df.HOME_LG_SHOTS_OT_A_L2W+train_df.HOME_LG_SHOTS_OT_A_L3W"
   ]
  },
  {
   "cell_type": "code",
   "execution_count": 32,
   "metadata": {},
   "outputs": [],
   "source": [
    "train_df['AWAY_LG_GOALS_L1W']=train_df.apply(func_AWAY_LG_GOALS_L1W,axis=1)\n",
    "train_df['AWAY_LG_GOALS_L2W']=train_df.apply(func_AWAY_LG_GOALS_L2W,axis=1)\n",
    "train_df['AWAY_LG_GOALS_L3W']=train_df.apply(func_AWAY_LG_GOALS_L3W,axis=1)\n",
    "train_df['AWAY_LG_GOALS_L3W_COMB']=train_df.AWAY_LG_GOALS_L1W+train_df.AWAY_LG_GOALS_L2W+train_df.AWAY_LG_GOALS_L3W"
   ]
  },
  {
   "cell_type": "code",
   "execution_count": 33,
   "metadata": {},
   "outputs": [],
   "source": [
    "train_df['AWAY_LG_GOALS_H_L1W']=train_df.apply(func_AWAY_LG_GOALS_H_L1W,axis=1)\n",
    "train_df['AWAY_LG_GOALS_H_L2W']=train_df.apply(func_AWAY_LG_GOALS_H_L2W,axis=1)\n",
    "train_df['AWAY_LG_GOALS_H_L3W']=train_df.apply(func_AWAY_LG_GOALS_H_L3W,axis=1)\n",
    "train_df['AWAY_LG_GOALS_H_L3W_COMB']=train_df.AWAY_LG_GOALS_H_L1W+train_df.AWAY_LG_GOALS_H_L2W+train_df.AWAY_LG_GOALS_H_L3W"
   ]
  },
  {
   "cell_type": "code",
   "execution_count": 34,
   "metadata": {},
   "outputs": [],
   "source": [
    "train_df['AWAY_LG_GOALS_A_L1W']=train_df.apply(func_AWAY_LG_GOALS_A_L1W,axis=1)\n",
    "train_df['AWAY_LG_GOALS_A_L2W']=train_df.apply(func_AWAY_LG_GOALS_A_L2W,axis=1)\n",
    "train_df['AWAY_LG_GOALS_A_L3W']=train_df.apply(func_AWAY_LG_GOALS_A_L3W,axis=1)\n",
    "train_df['AWAY_LG_GOALS_A_L3W_COMB']=train_df.AWAY_LG_GOALS_A_L1W+train_df.AWAY_LG_GOALS_A_L2W+train_df.AWAY_LG_GOALS_A_L3W"
   ]
  },
  {
   "cell_type": "code",
   "execution_count": 35,
   "metadata": {},
   "outputs": [],
   "source": [
    "train_df['AWAY_LG_SHOTS_L1W']=train_df.apply(func_AWAY_LG_SHOTS_L1W,axis=1)\n",
    "train_df['AWAY_LG_SHOTS_L2W']=train_df.apply(func_AWAY_LG_SHOTS_L2W,axis=1)\n",
    "train_df['AWAY_LG_SHOTS_L3W']=train_df.apply(func_AWAY_LG_SHOTS_L3W,axis=1)\n",
    "train_df['AWAY_LG_SHOTS_L3W_COMB']=train_df.AWAY_LG_SHOTS_L1W+train_df.AWAY_LG_SHOTS_L2W+train_df.AWAY_LG_SHOTS_L3W"
   ]
  },
  {
   "cell_type": "code",
   "execution_count": 36,
   "metadata": {},
   "outputs": [],
   "source": [
    "train_df['AWAY_LG_SHOTS_H_L1W']=train_df.apply(func_AWAY_LG_SHOTS_H_L1W,axis=1)\n",
    "train_df['AWAY_LG_SHOTS_H_L2W']=train_df.apply(func_AWAY_LG_SHOTS_H_L2W,axis=1)\n",
    "train_df['AWAY_LG_SHOTS_H_L3W']=train_df.apply(func_AWAY_LG_SHOTS_H_L3W,axis=1)\n",
    "train_df['AWAY_LG_SHOTS_H_L3W_COMB']=train_df.AWAY_LG_SHOTS_H_L1W+train_df.AWAY_LG_SHOTS_H_L2W+train_df.AWAY_LG_SHOTS_H_L3W"
   ]
  },
  {
   "cell_type": "code",
   "execution_count": 37,
   "metadata": {},
   "outputs": [],
   "source": [
    "train_df['AWAY_LG_SHOTS_A_L1W']=train_df.apply(func_AWAY_LG_SHOTS_A_L1W,axis=1)\n",
    "train_df['AWAY_LG_SHOTS_A_L2W']=train_df.apply(func_AWAY_LG_SHOTS_A_L2W,axis=1)\n",
    "train_df['AWAY_LG_SHOTS_A_L3W']=train_df.apply(func_AWAY_LG_SHOTS_A_L3W,axis=1)\n",
    "train_df['AWAY_LG_SHOTS_A_L3W_COMB']=train_df.AWAY_LG_SHOTS_A_L1W+train_df.AWAY_LG_SHOTS_A_L2W+train_df.AWAY_LG_SHOTS_A_L3W"
   ]
  },
  {
   "cell_type": "code",
   "execution_count": 38,
   "metadata": {},
   "outputs": [],
   "source": [
    "train_df['AWAY_LG_SHOTS_OT_L1W']=train_df.apply(func_AWAY_LG_SHOTS_OT_L1W,axis=1)\n",
    "train_df['AWAY_LG_SHOTS_OT_L2W']=train_df.apply(func_AWAY_LG_SHOTS_OT_L2W,axis=1)\n",
    "train_df['AWAY_LG_SHOTS_OT_L3W']=train_df.apply(func_AWAY_LG_SHOTS_OT_L3W,axis=1)\n",
    "train_df['AWAY_LG_SHOTS_OT_L3W_COMB']=train_df.AWAY_LG_SHOTS_OT_L1W+train_df.AWAY_LG_SHOTS_OT_L2W+train_df.AWAY_LG_SHOTS_OT_L3W"
   ]
  },
  {
   "cell_type": "code",
   "execution_count": 39,
   "metadata": {},
   "outputs": [],
   "source": [
    "train_df['AWAY_LG_SHOTS_OT_H_L1W']=train_df.apply(func_AWAY_LG_SHOTS_OT_H_L1W,axis=1)\n",
    "train_df['AWAY_LG_SHOTS_OT_H_L2W']=train_df.apply(func_AWAY_LG_SHOTS_OT_H_L2W,axis=1)\n",
    "train_df['AWAY_LG_SHOTS_OT_H_L3W']=train_df.apply(func_AWAY_LG_SHOTS_OT_H_L3W,axis=1)\n",
    "train_df['AWAY_LG_SHOTS_OT_H_L3W_COMB']=train_df.AWAY_LG_SHOTS_OT_H_L1W+train_df.AWAY_LG_SHOTS_OT_H_L2W+train_df.AWAY_LG_SHOTS_OT_H_L3W"
   ]
  },
  {
   "cell_type": "code",
   "execution_count": 40,
   "metadata": {},
   "outputs": [],
   "source": [
    "train_df['AWAY_LG_SHOTS_OT_A_L1W']=train_df.apply(func_AWAY_LG_SHOTS_OT_A_L1W,axis=1)\n",
    "train_df['AWAY_LG_SHOTS_OT_A_L2W']=train_df.apply(func_AWAY_LG_SHOTS_OT_A_L2W,axis=1)\n",
    "train_df['AWAY_LG_SHOTS_OT_A_L3W']=train_df.apply(func_AWAY_LG_SHOTS_OT_A_L3W,axis=1)\n",
    "train_df['AWAY_LG_SHOTS_OT_A_L3W_COMB']=train_df.AWAY_LG_SHOTS_OT_A_L1W+train_df.AWAY_LG_SHOTS_OT_A_L2W+train_df.AWAY_LG_SHOTS_OT_A_L3W"
   ]
  },
  {
   "cell_type": "code",
   "execution_count": 41,
   "metadata": {},
   "outputs": [],
   "source": [
    "train_df['HOME_MKT_VAL']=train_df.apply(func_HOME_MKT_VAL,axis=1)\n",
    "train_df['AWAY_MKT_VAL']=train_df.apply(func_AWAY_MKT_VAL,axis=1)\n",
    "train_df['ABS_DIFF_MKT_VAL']=abs(train_df.HOME_MKT_VAL-train_df.AWAY_MKT_VAL)"
   ]
  },
  {
   "cell_type": "code",
   "execution_count": 42,
   "metadata": {},
   "outputs": [],
   "source": [
    "train_df['HOME_L0S_FIFA_SCR_ATK']=train_df.apply(func_HOME_L0S_FIFA_SCR_ATK, axis=1)\n",
    "train_df['HOME_L0S_FIFA_SCR_ORT']=train_df.apply(func_HOME_L0S_FIFA_SCR_ORT, axis=1)\n",
    "train_df['HOME_L0S_FIFA_SCR_DEF']=train_df.apply(func_HOME_L0S_FIFA_SCR_DEF, axis=1)\n",
    "train_df['HOME_L0S_FIFA_SCR_OVR']=train_df.apply(func_HOME_L0S_FIFA_SCR_OVR, axis=1)"
   ]
  },
  {
   "cell_type": "code",
   "execution_count": 43,
   "metadata": {},
   "outputs": [],
   "source": [
    "train_df['AWAY_L0S_FIFA_SCR_ATK']=train_df.apply(func_AWAY_L0S_FIFA_SCR_ATK, axis=1)\n",
    "train_df['AWAY_L0S_FIFA_SCR_ORT']=train_df.apply(func_AWAY_L0S_FIFA_SCR_ORT, axis=1)\n",
    "train_df['AWAY_L0S_FIFA_SCR_DEF']=train_df.apply(func_AWAY_L0S_FIFA_SCR_DEF, axis=1)\n",
    "train_df['AWAY_L0S_FIFA_SCR_OVR']=train_df.apply(func_AWAY_L0S_FIFA_SCR_OVR, axis=1)"
   ]
  },
  {
   "cell_type": "code",
   "execution_count": 44,
   "metadata": {},
   "outputs": [],
   "source": [
    "train_df['ABS_DIFF_L0S_FIFA_SCR_ATK']=abs(train_df.HOME_L0S_FIFA_SCR_ATK-train_df.AWAY_L0S_FIFA_SCR_ATK)\n",
    "train_df['ABS_DIFF_L0S_FIFA_SCR_ORT']=abs(train_df.HOME_L0S_FIFA_SCR_ORT-train_df.AWAY_L0S_FIFA_SCR_ORT)\n",
    "train_df['ABS_DIFF_L0S_FIFA_SCR_DEF']=abs(train_df.HOME_L0S_FIFA_SCR_DEF-train_df.AWAY_L0S_FIFA_SCR_DEF)\n",
    "train_df['ABS_DIFF_L0S_FIFA_SCR_OVR']=abs(train_df.HOME_L0S_FIFA_SCR_OVR-train_df.AWAY_L0S_FIFA_SCR_OVR)"
   ]
  },
  {
   "cell_type": "code",
   "execution_count": 45,
   "metadata": {},
   "outputs": [
    {
     "name": "stderr",
     "output_type": "stream",
     "text": [
      "D:\\anaconda\\lib\\site-packages\\ipykernel_launcher.py:4: RuntimeWarning: Mean of empty slice\n",
      "  after removing the cwd from sys.path.\n"
     ]
    }
   ],
   "source": [
    "train_df['H2H_TOT_CORNERS_HA_L1G']=train_df.apply(func_H2H_TOT_CORNERS_HA_L1G, axis=1)\n",
    "train_df['H2H_TOT_CORNERS_HA_L2G']=train_df.apply(func_H2H_TOT_CORNERS_HA_L2G, axis=1)\n",
    "train_df['H2H_TOT_CORNERS_HA_L3G']=train_df.apply(func_H2H_TOT_CORNERS_HA_L3G, axis=1)\n",
    "train_df['H2H_TOT_CORNERS_HA_L3G_AVG']=np.round(np.nanmean([train_df.H2H_TOT_CORNERS_HA_L1G,train_df.H2H_TOT_CORNERS_HA_L2G,train_df.H2H_TOT_CORNERS_HA_L3G],axis=0),2)"
   ]
  },
  {
   "cell_type": "code",
   "execution_count": 46,
   "metadata": {},
   "outputs": [
    {
     "name": "stderr",
     "output_type": "stream",
     "text": [
      "D:\\anaconda\\lib\\site-packages\\ipykernel_launcher.py:4: RuntimeWarning: Mean of empty slice\n",
      "  after removing the cwd from sys.path.\n"
     ]
    }
   ],
   "source": [
    "train_df['H2H_TOT_SHOTS_HA_L1G']=train_df.apply(func_H2H_TOT_SHOTS_HA_L1G, axis=1)\n",
    "train_df['H2H_TOT_SHOTS_HA_L2G']=train_df.apply(func_H2H_TOT_SHOTS_HA_L2G, axis=1)\n",
    "train_df['H2H_TOT_SHOTS_HA_L3G']=train_df.apply(func_H2H_TOT_SHOTS_HA_L3G, axis=1)\n",
    "train_df['H2H_TOT_SHOTS_HA_L3G_AVG']=np.round(np.nanmean([train_df.H2H_TOT_SHOTS_HA_L1G,train_df.H2H_TOT_SHOTS_HA_L2G,train_df.H2H_TOT_SHOTS_HA_L3G],axis=0),2)"
   ]
  },
  {
   "cell_type": "code",
   "execution_count": 78,
   "metadata": {},
   "outputs": [],
   "source": [
    "train_df['Season']=train_df.apply(findSeason,axis=1)"
   ]
  },
  {
   "cell_type": "code",
   "execution_count": 80,
   "metadata": {},
   "outputs": [],
   "source": [
    "train_df.to_csv('./raw_training_data/raw_training_data.csv',index=False)"
   ]
  }
 ],
 "metadata": {
  "kernelspec": {
   "display_name": "Python 3",
   "language": "python",
   "name": "python3"
  },
  "language_info": {
   "codemirror_mode": {
    "name": "ipython",
    "version": 3
   },
   "file_extension": ".py",
   "mimetype": "text/x-python",
   "name": "python",
   "nbconvert_exporter": "python",
   "pygments_lexer": "ipython3",
   "version": "3.7.3"
  }
 },
 "nbformat": 4,
 "nbformat_minor": 2
}
